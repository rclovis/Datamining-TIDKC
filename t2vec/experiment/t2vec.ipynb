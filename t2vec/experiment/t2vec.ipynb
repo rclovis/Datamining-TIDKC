using JSON
using Serialization
using DelimitedFiles
using Distances
include("utils.jl")
datapath = "/home/xiucheng/Github/t2vec/data"
param = JSON.parsefile("../hyper-parameters.json")
regionps = param["region"]
cityname = regionps["cityname"]
cellsize = regionps["cellsize"]
region = SpatialRegion(cityname,
                       regionps["minlon"], regionps["minlat"],
                       regionps["maxlon"], regionps["maxlat"],
                       cellsize, cellsize,
                       regionps["minfreq"], # minfreq
                       40_000, # maxvocab_size
                       10, # k
                       4)

println("Building spatial region with:
        cityname=$(region.name),
        minlon=$(region.minlon),
        minlat=$(region.minlat),
        maxlon=$(region.maxlon),
        maxlat=$(region.maxlat),
        xstep=$(region.xstep),
        ystep=$(region.ystep),
        minfreq=$(region.minfreq)")

paramfile = "$datapath/$(region.name)-param-cell$(Int(cellsize))"
if isfile(paramfile)
    println("Reading parameter file from $paramfile")
    region = deserialize(paramfile)
    println("Loaded $paramfile into region")
else
    println("Cannot find $paramfile")
end

## Exp1 Similar search without downsampling and distorting
## create querydb 
prefix = "exp1"
do_split = true
start = 1_000_000+20_000
num_query = 1000
num_db = 100_000
querydbfile = joinpath(datapath, "$prefix-querydb.h5")
tfile = joinpath(datapath, "$prefix-trj.t")
labelfile = joinpath(datapath, "$prefix-trj.label")
vecfile = joinpath(datapath, "$prefix-trj.h5")
createQueryDB("$datapath/$cityname.h5", start, num_query, num_db,
              (x, y)->(x, y),
              (x, y)->(x, y);
              do_split=do_split,
              querydbfile=querydbfile)
createTLabel(region, querydbfile; tfile=tfile, labelfile=labelfile)
checkpoint = joinpath(datapath, "best_model.pt")
t2vec = `python t2vec.py -mode 2 -vocab_size 18864 -checkpoint $checkpoint -prefix $prefix`
println(t2vec)

cd("/home/xiucheng/Github/t2vec/")
run(t2vec)
cd("/home/xiucheng/Github/t2vec/experiment")
pwd()
## load vectors and labels
vecs = h5open(vecfile, "r") do f
    read(f["layer3"])
end
label = readdlm(labelfile, Int)

query, db = vecs[:, 1:num_query], vecs[:, num_query+1:end]
queryLabel, dbLabel = label[1:num_query], label[num_query+1:end]
query, db = [query[:, i] for i in 1:size(query, 2)], [db[:, i] for i in 1:size(db, 2)];

# without discriminative loss
dbsizes = [20_000, 40_000, 60_000, 80_000, 100_000]
for dbsize in dbsizes
    ranks = ranksearch(query, queryLabel, db[1:dbsize], dbLabel[1:dbsize], euclidean)
    println("mean rank: $(mean(ranks)) with dbsize: $dbsize")
end
# mean rank: 2.135 with dbsize: 20000
# mean rank: 3.132 with dbsize: 40000
# mean rank: 4.244 with dbsize: 60000
# mean rank: 5.553 with dbsize: 80000
# mean rank: 6.662 with dbsize: 100000

## Exp2 Similar search with downsampling

### create querydb
rate = 0.6
prefix = "exp2-r$(Int(10rate))"
do_split = true
start = 1_000_000+20_000
num_query = 1000
num_db = 100_000

querydbfile = joinpath(datapath, "$prefix-querydb.h5")
tfile = joinpath(datapath, "$prefix-trj.t")
labelfile = joinpath(datapath, "$prefix-trj.label")
vecfile = joinpath(datapath, "$prefix-trj.h5")
# for rate in [0.2, 0.3, 0.4, 0.5]
#     querydbfile = joinpath(datapath, "$prefix-r$(Int(10rate))-querydb.h5")
#     tfile = joinpath(datapath, "$prefix-r$(Int(10rate))-trj.t")
#     labelfile = joinpath(datapath, "$prefix-r$(Int(10rate))-trj.label")
#     vecfile = joinpath(datapath, "$prefix-r$(Int(10rate))-trj.h5")
#     createQueryDB("$datapath/$cityname.h5", start, num_query, num_db,
#               (x, y)->downsampling(x, y, rate),
#               (x, y)->downsampling(x, y, rate);
#               do_split=do_split,
#               querydbfile=querydbfile)
#     createTLabel(region, querydbfile; tfile=tfile, labelfile=labelfile)
# end

createQueryDB("$datapath/$cityname.h5", start, num_query, num_db,
              (x, y)->downsampling(x, y, rate),
              (x, y)->downsampling(x, y, rate);
              do_split=do_split,
              querydbfile=querydbfile)
createTLabel(region, querydbfile; tfile=tfile, labelfile=labelfile)
checkpoint = joinpath(datapath, "best_model_gen.pt")
t2vec = `python t2vec.py -mode 2 -vocab_size 18864 -checkpoint $checkpoint -prefix $prefix`
println(t2vec)

cd("/home/xiucheng/Github/t2vec/")
run(t2vec)
cd("/home/xiucheng/Github/t2vec/experiment")
pwd()
vecs = h5open(vecfile, "r") do f
    read(f["layer3"])
end
label = readdlm(labelfile, Int)

query, db = vecs[:, 1:num_query], vecs[:, num_query+1:end]
queryLabel, dbLabel = label[1:num_query], label[num_query+1:end]
query, db = [query[:, i] for i in 1:size(query, 2)], [db[:, i] for i in 1:size(db, 2)];

# without discriminative loss
dbsize = 100_000
ranks = ranksearch(query, queryLabel, db[1:dbsize], dbLabel[1:dbsize], euclidean)
println("mean rank: $(mean(ranks)) with dbsize: $dbsize")


